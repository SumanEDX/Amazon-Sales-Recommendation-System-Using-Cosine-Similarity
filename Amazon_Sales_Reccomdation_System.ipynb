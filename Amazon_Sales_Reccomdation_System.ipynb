{
  "cells": [
    {
      "cell_type": "code",
      "execution_count": null,
      "id": "83a3bc4f-c678-4f28-bd39-a098cde0b581",
      "metadata": {
        "id": "83a3bc4f-c678-4f28-bd39-a098cde0b581"
      },
      "outputs": [],
      "source": [
        "import numpy as np\n",
        "import pandas as pd"
      ]
    },
    {
      "cell_type": "code",
      "execution_count": null,
      "id": "6d46b3d2-cbd9-4ea9-bede-a882e925e78c",
      "metadata": {
        "id": "6d46b3d2-cbd9-4ea9-bede-a882e925e78c"
      },
      "outputs": [],
      "source": [
        "df=pd.read_csv(\"/content/Amazon_sales.csv\")"
      ]
    },
    {
      "cell_type": "code",
      "execution_count": null,
      "id": "102e6fb0-98d4-46cc-b0cc-0498682e1635",
      "metadata": {
        "id": "102e6fb0-98d4-46cc-b0cc-0498682e1635"
      },
      "outputs": [],
      "source": [
        "df"
      ]
    },
    {
      "cell_type": "code",
      "execution_count": null,
      "id": "d5f9c528-f079-409d-9b86-ebf6c3d63612",
      "metadata": {
        "id": "d5f9c528-f079-409d-9b86-ebf6c3d63612"
      },
      "outputs": [],
      "source": [
        "# discounted price: its of object type because of the rupee sign\n",
        "df['discounted_price']\n",
        "# to change datatype: df['discounted_price'].astype('float64') but it'll give an error because of the rupee sign\n",
        "df['discounted_price'].str.replace('₹','') # first what to replace, second- with what\n",
        "# but actual m yeh changes reflect nahi honge\n",
        "df['discounted_price']=df['discounted_price'].str.replace('₹','')\n",
        "df['discounted_price']=df['discounted_price'].str.replace(',','')\n",
        "# now the changes will reflect"
      ]
    },
    {
      "cell_type": "code",
      "execution_count": null,
      "id": "cc591601-8ef1-4346-bf80-cd3b9096a061",
      "metadata": {
        "id": "cc591601-8ef1-4346-bf80-cd3b9096a061"
      },
      "outputs": [],
      "source": [
        "df['discounted_price']=df['discounted_price'].astype('float64')"
      ]
    },
    {
      "cell_type": "code",
      "execution_count": null,
      "id": "0a12eb69-bb8e-4074-a66e-2b6d5d7f95a6",
      "metadata": {
        "id": "0a12eb69-bb8e-4074-a66e-2b6d5d7f95a6"
      },
      "outputs": [],
      "source": [
        "df.info()"
      ]
    },
    {
      "cell_type": "code",
      "execution_count": null,
      "id": "33a5a833-8e33-439d-883b-184e150cf4e5",
      "metadata": {
        "id": "33a5a833-8e33-439d-883b-184e150cf4e5"
      },
      "outputs": [],
      "source": [
        "#actual_price\n",
        "df['actual_price']=df['actual_price'].str.replace('₹','')\n",
        "df['actual_price']=df['actual_price'].str.replace(',','')\n",
        "df['actual_price']=df['actual_price'].astype('float64')"
      ]
    },
    {
      "cell_type": "code",
      "execution_count": null,
      "id": "e0c1226f-ef92-4271-8f71-6ca63c047099",
      "metadata": {
        "id": "e0c1226f-ef92-4271-8f71-6ca63c047099"
      },
      "outputs": [],
      "source": [
        "# Step 1: Remove ₹ symbol and commas\n",
        "df['discounted_price'] = df['discounted_price'].astype(str).str.replace('₹', '', regex=False).str.replace(',', '', regex=False)\n",
        "\n",
        "# Step 2: Convert the cleaned string to numeric (float or int)\n",
        "df['discounted_price'] = pd.to_numeric(df['discounted_price'], errors='coerce')\n"
      ]
    },
    {
      "cell_type": "code",
      "execution_count": null,
      "id": "eaf4b2ce-b057-48a7-a65c-0e4722a2ec7d",
      "metadata": {
        "id": "eaf4b2ce-b057-48a7-a65c-0e4722a2ec7d"
      },
      "outputs": [],
      "source": [
        "df['discounted_price']=df['discounted_price'].astype('float64')"
      ]
    },
    {
      "cell_type": "code",
      "execution_count": null,
      "id": "979580b7-52fd-47d2-a4c7-c950855a47de",
      "metadata": {
        "id": "979580b7-52fd-47d2-a4c7-c950855a47de"
      },
      "outputs": [],
      "source": [
        "#discounted_percentage\n",
        "df['discount_percentage']=df['discount_percentage'].str.replace('%','').astype('float64')"
      ]
    },
    {
      "cell_type": "code",
      "execution_count": null,
      "id": "20857bc7-bab1-46eb-b187-7aa941215923",
      "metadata": {
        "id": "20857bc7-bab1-46eb-b187-7aa941215923"
      },
      "outputs": [],
      "source": [
        "df['rating']"
      ]
    },
    {
      "cell_type": "code",
      "execution_count": null,
      "id": "096fe1ee-41b1-4e42-95aa-7e78a332aa89",
      "metadata": {
        "id": "096fe1ee-41b1-4e42-95aa-7e78a332aa89"
      },
      "outputs": [],
      "source": [
        "df.query('rating==\"|\"')"
      ]
    },
    {
      "cell_type": "code",
      "execution_count": null,
      "id": "92b9221f-6e9b-4967-bdec-b8440c238f0c",
      "metadata": {
        "id": "92b9221f-6e9b-4967-bdec-b8440c238f0c"
      },
      "outputs": [],
      "source": [
        "df['rating']=df['rating'].str.replace('|','3.5')\n"
      ]
    },
    {
      "cell_type": "code",
      "execution_count": null,
      "id": "3ced2cab-0139-4786-b95d-2a26bf1d5548",
      "metadata": {
        "id": "3ced2cab-0139-4786-b95d-2a26bf1d5548"
      },
      "outputs": [],
      "source": [
        "df['rating']=df['rating'].str.replace('|','3.5').astype('float64')"
      ]
    },
    {
      "cell_type": "code",
      "execution_count": null,
      "id": "61afef57-b4b7-48a3-9127-9fcf23121caa",
      "metadata": {
        "id": "61afef57-b4b7-48a3-9127-9fcf23121caa"
      },
      "outputs": [],
      "source": [
        "df['rating_count']=df['rating_count'].str.replace(',','').astype('float64')"
      ]
    },
    {
      "cell_type": "code",
      "execution_count": null,
      "id": "bb5403d7-b096-4553-8a97-51293b53a4e3",
      "metadata": {
        "id": "bb5403d7-b096-4553-8a97-51293b53a4e3"
      },
      "outputs": [],
      "source": [
        "df.isnull().sum()/len(df)\n",
        "# (df.isnull().sum()/df.shape[0])*100 both ar"
      ]
    },
    {
      "cell_type": "code",
      "execution_count": null,
      "id": "e7f25879-73d2-4d3e-92fb-8c8a80d6ed82",
      "metadata": {
        "id": "e7f25879-73d2-4d3e-92fb-8c8a80d6ed82"
      },
      "outputs": [],
      "source": [
        "# to show which values are missing\n",
        "df[df['rating_count'].isnull()]"
      ]
    },
    {
      "cell_type": "code",
      "execution_count": null,
      "id": "54e27ba7-d584-4576-8f2d-f390df5c9716",
      "metadata": {
        "id": "54e27ba7-d584-4576-8f2d-f390df5c9716"
      },
      "outputs": [],
      "source": [
        "round((df.isnull().sum()/df.shape[0])*100,2).sort_values(ascending=False)"
      ]
    },
    {
      "cell_type": "code",
      "execution_count": null,
      "id": "f9914310-b6b0-4607-995c-d1aa6abf7ae5",
      "metadata": {
        "id": "f9914310-b6b0-4607-995c-d1aa6abf7ae5"
      },
      "outputs": [],
      "source": [
        "print(\"mean: \",df['rating_count'].mean())\n",
        "print(\"median: \", df['rating_count'].median())"
      ]
    },
    {
      "cell_type": "code",
      "execution_count": null,
      "id": "f2a433e4-829f-4a00-a117-be9122bd5b55",
      "metadata": {
        "id": "f2a433e4-829f-4a00-a117-be9122bd5b55"
      },
      "outputs": [],
      "source": [
        "# replace rating count values with median\n",
        "df['rating_count']=df.rating_count.fillna(value=df['rating_count'].median())"
      ]
    },
    {
      "cell_type": "code",
      "execution_count": null,
      "id": "7032dee2-8dc3-4a08-a51b-1df3ca5729b5",
      "metadata": {
        "id": "7032dee2-8dc3-4a08-a51b-1df3ca5729b5"
      },
      "outputs": [],
      "source": [
        "df.duplicated().any()\n",
        "# to check if there are any duplicates"
      ]
    },
    {
      "cell_type": "code",
      "execution_count": null,
      "id": "cde878d9-76b4-49fe-939d-b506afb08d11",
      "metadata": {
        "id": "cde878d9-76b4-49fe-939d-b506afb08d11"
      },
      "outputs": [],
      "source": [
        "#EDA and Visualization"
      ]
    },
    {
      "cell_type": "code",
      "execution_count": null,
      "id": "ab0b57bf-4741-4fae-b409-ee92ab48ecc2",
      "metadata": {
        "id": "ab0b57bf-4741-4fae-b409-ee92ab48ecc2"
      },
      "outputs": [],
      "source": [
        "df['category'].value_counts()"
      ]
    },
    {
      "cell_type": "code",
      "execution_count": null,
      "id": "8a3e016d-af26-4f43-8bfa-b95a95f603fb",
      "metadata": {
        "id": "8a3e016d-af26-4f43-8bfa-b95a95f603fb"
      },
      "outputs": [],
      "source": [
        "df['main_category']=df['category'].astype(str).str.split('|').str[0]"
      ]
    },
    {
      "cell_type": "code",
      "execution_count": null,
      "id": "f20ae4f1-0381-4af2-9a89-fb7a200c8150",
      "metadata": {
        "id": "f20ae4f1-0381-4af2-9a89-fb7a200c8150"
      },
      "outputs": [],
      "source": [
        "df.head()"
      ]
    },
    {
      "cell_type": "code",
      "execution_count": null,
      "id": "32113da3-17f4-4960-9efd-f8c360966559",
      "metadata": {
        "id": "32113da3-17f4-4960-9efd-f8c360966559"
      },
      "outputs": [],
      "source": [
        "df['sub_category']=df['category'].astype(str).str.split('|').str[-1]"
      ]
    },
    {
      "cell_type": "code",
      "execution_count": null,
      "id": "b454a724-861b-4dd1-827d-9d9d8a811226",
      "metadata": {
        "id": "b454a724-861b-4dd1-827d-9d9d8a811226"
      },
      "outputs": [],
      "source": [
        "df['category'].astype(str).str.split('|').str[-1]"
      ]
    },
    {
      "cell_type": "code",
      "execution_count": null,
      "id": "6781c862-7115-409f-b705-eea0106f96f7",
      "metadata": {
        "id": "6781c862-7115-409f-b705-eea0106f96f7"
      },
      "outputs": [],
      "source": [
        "df[['rating_count','rating']]"
      ]
    },
    {
      "cell_type": "code",
      "execution_count": null,
      "id": "501647ce-acbd-4bcb-883a-690cdaf8e186",
      "metadata": {
        "id": "501647ce-acbd-4bcb-883a-690cdaf8e186"
      },
      "outputs": [],
      "source": [
        "df['rating_weight']=df['rating']*df['rating_count']\n",
        "# this is rating weight: avg number of people rated"
      ]
    },
    {
      "cell_type": "code",
      "execution_count": null,
      "id": "2f5b79ea-0792-47ac-8851-5bb39f7eda30",
      "metadata": {
        "id": "2f5b79ea-0792-47ac-8851-5bb39f7eda30"
      },
      "outputs": [],
      "source": [
        "#DATA VISUALIZATION"
      ]
    },
    {
      "cell_type": "code",
      "execution_count": null,
      "id": "fdeaeaa5-bbe1-4d36-8f7a-7e729aa323c5",
      "metadata": {
        "id": "fdeaeaa5-bbe1-4d36-8f7a-7e729aa323c5"
      },
      "outputs": [],
      "source": [
        "import matplotlib.pyplot as plt"
      ]
    },
    {
      "cell_type": "code",
      "execution_count": null,
      "id": "5229596f-6f40-48f0-8a06-5ba77eee77f9",
      "metadata": {
        "id": "5229596f-6f40-48f0-8a06-5ba77eee77f9"
      },
      "outputs": [],
      "source": [
        "# Data Distribution of products by main category"
      ]
    },
    {
      "cell_type": "code",
      "execution_count": null,
      "id": "b9cbeb48-6092-4442-82a7-80d79a2ac6e6",
      "metadata": {
        "id": "b9cbeb48-6092-4442-82a7-80d79a2ac6e6"
      },
      "outputs": [],
      "source": [
        "mainCategoryCount = df['main_category'].value_counts()"
      ]
    },
    {
      "cell_type": "code",
      "execution_count": null,
      "id": "5d69f394-b8d9-4047-ab8d-ed4e7342ee22",
      "metadata": {
        "id": "5d69f394-b8d9-4047-ab8d-ed4e7342ee22"
      },
      "outputs": [],
      "source": [
        "mainCategoryCount"
      ]
    },
    {
      "cell_type": "code",
      "execution_count": null,
      "id": "feb72526-d9a6-4732-bbda-d027bff93897",
      "metadata": {
        "id": "feb72526-d9a6-4732-bbda-d027bff93897"
      },
      "outputs": [],
      "source": [
        "plt.bar(range(len(mainCategoryCount)),mainCategoryCount.values)\n",
        "plt.ylabel('Number of products')\n",
        "#plt.xlabel('Products')\n",
        "plt.xticks(range(len(mainCategoryCount)),'')\n",
        "plt.show()"
      ]
    },
    {
      "cell_type": "code",
      "execution_count": null,
      "id": "eae0b2d7-c26c-4fff-b1a5-673c28d5a149",
      "metadata": {
        "id": "eae0b2d7-c26c-4fff-b1a5-673c28d5a149"
      },
      "outputs": [],
      "source": [
        "# Observation-1\n",
        "#Top 3 main categories are Electronics\n",
        "#  Computers&Accessories,Home&Kitchen\n",
        "#These are top 3 electronics whuich are of main categries"
      ]
    },
    {
      "cell_type": "code",
      "execution_count": null,
      "id": "b61286bb-ff2a-451a-901b-cb456826d356",
      "metadata": {
        "id": "b61286bb-ff2a-451a-901b-cb456826d356"
      },
      "outputs": [],
      "source": [
        "#  analyze distribution of customers rating\n",
        "\n",
        "plt.hist(df['rating'])\n",
        "plt.xlabel('Rating')\n",
        "plt.ylabel('Number of Labels')\n",
        "plt.title('Customer Rating Distribution')"
      ]
    },
    {
      "cell_type": "code",
      "execution_count": null,
      "id": "d6391862-bf0d-48b2-a129-2d31e2d02dc9",
      "metadata": {
        "id": "d6391862-bf0d-48b2-a129-2d31e2d02dc9"
      },
      "outputs": [],
      "source": [
        "bins=[0,1,2,3,4,5]\n",
        "df['cluster']=pd.cut(df['rating'],bins=bins, labels= ['0-1','1-2','2-3','3-4','4-5'])"
      ]
    },
    {
      "cell_type": "code",
      "execution_count": null,
      "id": "1cd40385-2ef4-4d9a-9422-3520d21db334",
      "metadata": {
        "id": "1cd40385-2ef4-4d9a-9422-3520d21db334"
      },
      "outputs": [],
      "source": [
        "df['cluster'].value_counts().sort_values()"
      ]
    },
    {
      "cell_type": "code",
      "execution_count": null,
      "id": "b7e9d25c-0caf-45f4-b086-a8136d60d1ac",
      "metadata": {
        "id": "b7e9d25c-0caf-45f4-b086-a8136d60d1ac"
      },
      "outputs": [],
      "source": [
        "#Observation-2\n",
        "#--Majority ratings fall between 3-4 and 4-5 range.\n",
        "#--there is a slight increase in ratings 2-3 compared to 1-2 and 0-1 ranges.\n",
        "#--overall customers are satisfied with the products"
      ]
    },
    {
      "cell_type": "code",
      "execution_count": null,
      "id": "ef7f7226-1365-43df-bd86-6735cc4e7352",
      "metadata": {
        "id": "ef7f7226-1365-43df-bd86-6735cc4e7352"
      },
      "outputs": [],
      "source": [
        "topCategories_byRating=df.groupby(['main_category'])['rating'].mean().sort_values(ascending=False).reset_index()\n",
        "# mean(): avg rating"
      ]
    },
    {
      "cell_type": "code",
      "execution_count": null,
      "id": "9e90e037-942c-4253-a740-3ee33da9737c",
      "metadata": {
        "id": "9e90e037-942c-4253-a740-3ee33da9737c"
      },
      "outputs": [],
      "source": [
        "topCategories_byRating"
      ]
    },
    {
      "cell_type": "code",
      "execution_count": null,
      "id": "332fab11-d340-4a4b-a060-7b40426c5d06",
      "metadata": {
        "id": "332fab11-d340-4a4b-a060-7b40426c5d06"
      },
      "outputs": [],
      "source": [
        "plt.bar(topCategories_byRating['main_category'],topCategories_byRating['rating'])\n",
        "plt.xticks(rotation=90)\n",
        "plt.xlabel('Main Categories')\n",
        "plt.ylabel('Average Rating')\n",
        "plt.title('Top Main Categories by rating')\n",
        "plt.show()"
      ]
    },
    {
      "cell_type": "code",
      "execution_count": null,
      "id": "7910cb84-523c-4fa1-9b37-a512c834a34c",
      "metadata": {
        "id": "7910cb84-523c-4fa1-9b37-a512c834a34c"
      },
      "outputs": [],
      "source": [
        "# show the table\n",
        "ranking=df.groupby(['main_category'])['rating'].mean().sort_values(ascending=False).reset_index()\n",
        "print(ranking[:5])"
      ]
    },
    {
      "cell_type": "code",
      "execution_count": null,
      "id": "b2d8f3ef-29a2-41db-93bb-6e5123741c42",
      "metadata": {
        "id": "b2d8f3ef-29a2-41db-93bb-6e5123741c42"
      },
      "outputs": [],
      "source": [
        "ranking[:5]"
      ]
    },
    {
      "cell_type": "code",
      "execution_count": null,
      "id": "bc0b9598-b794-4347-a65e-e1503b63b8c2",
      "metadata": {
        "id": "bc0b9598-b794-4347-a65e-e1503b63b8c2"
      },
      "outputs": [],
      "source": [
        "#Observation-3\n",
        "#--Top rated category is OfficeProducts\n",
        "#--Top 3 Rated categories: OfficeProducts, Toys&Games, HomeImprovement\n",
        "#--Top 3 highest rated categories with mean rating is above 4"
      ]
    },
    {
      "cell_type": "code",
      "execution_count": null,
      "id": "f5d84b27-652c-46fd-92fb-8c26353a5919",
      "metadata": {
        "id": "f5d84b27-652c-46fd-92fb-8c26353a5919"
      },
      "outputs": [],
      "source": [
        "# Top subcategories\n",
        "\n",
        "df['sub_category'].value_counts()"
      ]
    },
    {
      "cell_type": "code",
      "execution_count": null,
      "id": "d0f319a3-b7b4-4123-9f35-12c815a0b371",
      "metadata": {
        "id": "d0f319a3-b7b4-4123-9f35-12c815a0b371"
      },
      "outputs": [],
      "source": [
        "topRated_subCategories=df.groupby(['sub_category'])['rating'].mean().sort_values(ascending=False).reset_index(0)\n",
        "topRated_10subCategories= topRated_subCategories.head(10)"
      ]
    },
    {
      "cell_type": "code",
      "execution_count": null,
      "id": "43ea1967-f239-46e9-8582-3da7fa6a44ce",
      "metadata": {
        "id": "43ea1967-f239-46e9-8582-3da7fa6a44ce"
      },
      "outputs": [],
      "source": [
        "plt.barh(topRated_10subCategories['sub_category'],topRated_10subCategories['rating'])\n",
        "plt.xticks(rotation=90)\n",
        "plt.ylabel('Sub Categories')\n",
        "plt.xlabel('Rating')\n",
        "plt.title('Top 10 Highest Rated Sub Categories')\n",
        "plt.show()"
      ]
    },
    {
      "cell_type": "code",
      "execution_count": null,
      "id": "ab7d9bcb-90a0-494f-af29-c26f1cb44eac",
      "metadata": {
        "id": "ab7d9bcb-90a0-494f-af29-c26f1cb44eac"
      },
      "outputs": [],
      "source": [
        "#Observation-4\n",
        "#--Highest rated sub categories are- Tablet, Film, Memory\n",
        "#--Lowest are - ElectricGrinders, DustCovers, 3DGlasses"
      ]
    },
    {
      "cell_type": "code",
      "execution_count": null,
      "id": "ea58794c-0ae9-47dc-ae09-a69f27d3b68f",
      "metadata": {
        "id": "ea58794c-0ae9-47dc-ae09-a69f27d3b68f"
      },
      "outputs": [],
      "source": [
        "avg_discount_percentage_MCategory=df.groupby('main_category')['discount_percentage'].mean().sort_values(ascending=False)\n",
        "# kise club karna h then kiske sath club karna h for .mean()\n",
        "avg_discount_percentage_MCategory.reset_index()"
      ]
    },
    {
      "cell_type": "code",
      "execution_count": null,
      "id": "fa005fd1-0e43-45e5-bbd7-b3bfc37864d6",
      "metadata": {
        "id": "fa005fd1-0e43-45e5-bbd7-b3bfc37864d6"
      },
      "outputs": [],
      "source": [
        "plt.barh(avg_discount_percentage_MCategory.index, avg_discount_percentage_MCategory.values)\n",
        "plt.xlabel('Discounted Percentage')\n",
        "plt.ylabel('Main Categories')\n",
        "plt.title('Discount Percentage by Main Category')\n",
        "plt.show()\n"
      ]
    },
    {
      "cell_type": "code",
      "execution_count": null,
      "id": "762fd4b8-3c27-4bf2-b20e-2309daeb4c81",
      "metadata": {
        "id": "762fd4b8-3c27-4bf2-b20e-2309daeb4c81"
      },
      "outputs": [],
      "source": [
        "#Observation-5\n",
        "#--Toys&Games has 0 discount. it means it has high demand\n",
        "#--Home Improvement has max discount of 57%\n",
        "#--computer assecories, health and personal care, electronics have almost same discount percentage"
      ]
    },
    {
      "cell_type": "code",
      "execution_count": null,
      "id": "008c6f4f-5e0f-471b-b1b8-468db2239d4c",
      "metadata": {
        "id": "008c6f4f-5e0f-471b-b1b8-468db2239d4c"
      },
      "outputs": [],
      "source": [
        "# sub category\n",
        "top20_avg_discount_percentage_SCategory=df.groupby('sub_category')['discount_percentage'].mean().sort_values(ascending=False).head(20)\n",
        "top20_avg_discount_percentage_SCategory.reset_index()"
      ]
    },
    {
      "cell_type": "code",
      "execution_count": null,
      "id": "10206490-f9e2-43dd-bf2d-5651063b43ba",
      "metadata": {
        "id": "10206490-f9e2-43dd-bf2d-5651063b43ba"
      },
      "outputs": [],
      "source": [
        "plt.barh(top20_avg_discount_percentage_SCategory.index, top20_avg_discount_percentage_SCategory.values)\n",
        "plt.xlabel('Discounted Percentage')\n",
        "plt.ylabel('Sub Categories')\n",
        "plt.title('Discount Percentage by Sub Category')\n",
        "plt.show()"
      ]
    },
    {
      "cell_type": "code",
      "execution_count": null,
      "id": "4fb5ab7c-a3cf-4e26-ae79-915498b7e8c1",
      "metadata": {
        "id": "4fb5ab7c-a3cf-4e26-ae79-915498b7e8c1"
      },
      "outputs": [],
      "source": [
        "#PRICE ANALYSIS"
      ]
    },
    {
      "cell_type": "code",
      "execution_count": null,
      "id": "64a191a2-ac73-4e2f-a599-b2fe86309fb4",
      "metadata": {
        "id": "64a191a2-ac73-4e2f-a599-b2fe86309fb4"
      },
      "outputs": [],
      "source": [
        "mainCategory_actualPrice=df.groupby('main_category')['actual_price'].mean()\n",
        "plt.barh(mainCategory_actualPrice.index, mainCategory_actualPrice.values)"
      ]
    },
    {
      "cell_type": "code",
      "execution_count": null,
      "id": "097c699a-b6a7-4756-ab6e-74ec2cffbc39",
      "metadata": {
        "id": "097c699a-b6a7-4756-ab6e-74ec2cffbc39"
      },
      "outputs": [],
      "source": [
        "plt.pie( mainCategory_actualPrice.values, labels=mainCategory_actualPrice.index, autopct='%1.1f%%')\n",
        "plt.title('price distribution of main category')\n",
        "plt.show()"
      ]
    },
    {
      "cell_type": "code",
      "execution_count": null,
      "id": "66108e04-367b-40ec-91ef-9db8348357c7",
      "metadata": {
        "id": "66108e04-367b-40ec-91ef-9db8348357c7"
      },
      "outputs": [],
      "source": [
        "#REVIEW ANALYSIS\n",
        "#---join all reviews to form a word cloud"
      ]
    },
    {
      "cell_type": "code",
      "execution_count": null,
      "id": "eff4b167-c382-4b32-9f8b-5f7ffefd14b7",
      "metadata": {
        "id": "eff4b167-c382-4b32-9f8b-5f7ffefd14b7"
      },
      "outputs": [],
      "source": [
        "df['review_content'][0]"
      ]
    },
    {
      "cell_type": "code",
      "execution_count": null,
      "id": "8273c4db-b81c-4552-bad5-f8cf3832becc",
      "metadata": {
        "id": "8273c4db-b81c-4552-bad5-f8cf3832becc"
      },
      "outputs": [],
      "source": [
        "df['review_content'].values"
      ]
    },
    {
      "cell_type": "code",
      "execution_count": null,
      "id": "1ec7e2fb-1c51-46d8-9a2c-0f3a1ddaa09a",
      "metadata": {
        "id": "1ec7e2fb-1c51-46d8-9a2c-0f3a1ddaa09a"
      },
      "outputs": [],
      "source": [
        "reviewContent=' '.join(df['review_content'].dropna().values)\n",
        "# combines all the review into one\n",
        "reviewContent"
      ]
    },
    {
      "cell_type": "code",
      "execution_count": null,
      "id": "e1ebfe54-48db-4982-a992-a968f6ea19fd",
      "metadata": {
        "id": "e1ebfe54-48db-4982-a992-a968f6ea19fd"
      },
      "outputs": [],
      "source": [
        "pip install wordcloud"
      ]
    },
    {
      "cell_type": "code",
      "execution_count": null,
      "id": "fe2bbcff-6cd1-4f62-aed7-6e1742d1c960",
      "metadata": {
        "id": "fe2bbcff-6cd1-4f62-aed7-6e1742d1c960"
      },
      "outputs": [],
      "source": [
        "from wordcloud import WordCloud\n",
        "review_wordCloud=WordCloud(width=1500, height=800).generate(reviewContent)\n",
        "plt.imshow(review_wordCloud)"
      ]
    },
    {
      "cell_type": "code",
      "execution_count": null,
      "id": "3382135b-5929-4a1d-ab0c-666e75b73f83",
      "metadata": {
        "id": "3382135b-5929-4a1d-ab0c-666e75b73f83"
      },
      "outputs": [],
      "source": [
        "plt.figure(figsize=(10,10))\n",
        "plt.imshow(review_wordCloud)\n",
        "plt.axis('off')"
      ]
    },
    {
      "cell_type": "code",
      "execution_count": null,
      "id": "dde7565a-b2e0-41ea-9a4b-1de5e4d8b3c1",
      "metadata": {
        "id": "dde7565a-b2e0-41ea-9a4b-1de5e4d8b3c1"
      },
      "outputs": [],
      "source": [
        "#For Reviews whose ratings are more than 4(>4)"
      ]
    },
    {
      "cell_type": "code",
      "execution_count": null,
      "id": "f72f889a-5237-4932-8c49-2e2de7e07039",
      "metadata": {
        "id": "f72f889a-5237-4932-8c49-2e2de7e07039"
      },
      "outputs": [],
      "source": [
        "rating4_df=df[df['rating']>4]\n",
        "rating4_df.head()"
      ]
    },
    {
      "cell_type": "code",
      "execution_count": null,
      "id": "9b692ff7-e266-466b-a24c-7179c60489f2",
      "metadata": {
        "id": "9b692ff7-e266-466b-a24c-7179c60489f2"
      },
      "outputs": [],
      "source": [
        "rating4_review=' '.join(rating4_df['review_content'].dropna().values)"
      ]
    },
    {
      "cell_type": "code",
      "execution_count": null,
      "id": "7e6a3297-8112-4a9c-a810-cbe70ca78ed0",
      "metadata": {
        "id": "7e6a3297-8112-4a9c-a810-cbe70ca78ed0"
      },
      "outputs": [],
      "source": [
        "rating4_review_wordCloud = WordCloud(width=1500, height=800).generate(rating4_review)"
      ]
    },
    {
      "cell_type": "code",
      "execution_count": null,
      "id": "9db91151-9aa6-445c-b291-775a1da1a6a1",
      "metadata": {
        "id": "9db91151-9aa6-445c-b291-775a1da1a6a1"
      },
      "outputs": [],
      "source": [
        "plt.figure(figsize=(10,10))\n",
        "plt.imshow(rating4_review_wordCloud)\n",
        "plt.axis('off')"
      ]
    },
    {
      "cell_type": "code",
      "execution_count": null,
      "id": "9f029403-fbf0-4cb3-b31a-b04d59a930e5",
      "metadata": {
        "id": "9f029403-fbf0-4cb3-b31a-b04d59a930e5"
      },
      "outputs": [],
      "source": [
        "low_rating_df=df[df['rating']<3]\n",
        "low_rating_review=' '.join(low_rating_df['review_content'].dropna().values)\n",
        "low_rating_review_wordCloud = WordCloud(width=1500, height=800).generate(low_rating_review)\n",
        "plt.figure(figsize=(10,10))\n",
        "plt.imshow(low_rating_review_wordCloud)\n",
        "plt.axis('off')"
      ]
    },
    {
      "cell_type": "code",
      "execution_count": null,
      "id": "9f145ed7-e5db-4ee7-be33-67f95cfd096b",
      "metadata": {
        "id": "9f145ed7-e5db-4ee7-be33-67f95cfd096b"
      },
      "outputs": [],
      "source": [
        "###CORELATION BETWEEN NUMERICAL FEATURES"
      ]
    },
    {
      "cell_type": "code",
      "execution_count": null,
      "id": "16ccd2de-e15d-4265-920a-76b23a4f6d5d",
      "metadata": {
        "id": "16ccd2de-e15d-4265-920a-76b23a4f6d5d"
      },
      "outputs": [],
      "source": [
        "numerical_df=df.select_dtypes(include='float64') # selecting only numerical values\n",
        "numerical_df.head()"
      ]
    },
    {
      "cell_type": "code",
      "execution_count": null,
      "id": "0f670a20-0643-4608-8c30-2cb5d8a47e21",
      "metadata": {
        "id": "0f670a20-0643-4608-8c30-2cb5d8a47e21"
      },
      "outputs": [],
      "source": [
        "correlation_matrix=numerical_df.corr()\n",
        "correlation_matrix"
      ]
    },
    {
      "cell_type": "code",
      "execution_count": null,
      "id": "5d6b679a-1cc5-4c91-b279-b98d28d82141",
      "metadata": {
        "id": "5d6b679a-1cc5-4c91-b279-b98d28d82141"
      },
      "outputs": [],
      "source": [
        "import seaborn as sns\n",
        "sns.heatmap(correlation_matrix, annot=True , cmap='coolwarm')"
      ]
    },
    {
      "cell_type": "code",
      "execution_count": null,
      "id": "57613b7b-b39c-4741-a48d-e730102e09d8",
      "metadata": {
        "id": "57613b7b-b39c-4741-a48d-e730102e09d8"
      },
      "outputs": [],
      "source": [
        "##BUILDING THE RECOMMENDATION SYSTEM"
      ]
    },
    {
      "cell_type": "code",
      "execution_count": null,
      "id": "e9a60dcc-febb-4f67-b96e-d26d80cce2ed",
      "metadata": {
        "id": "e9a60dcc-febb-4f67-b96e-d26d80cce2ed",
        "outputId": "2f6e873f-7e37-4c27-b3b4-1d5cc1789a44"
      },
      "outputs": [
        {
          "data": {
            "text/plain": [
              "'AG3D6O4STAQKAY2UVGEUV46KN35Q,AHMY5CWJMMK5BJRBBSNLYT3ONILA,AHCTC6ULH4XB6YHDY6PCH2R772LQ,AGYHHIERNXKA6P5T7CZLXKVPT7IQ,AG4OGOFWXJZTQ2HKYIOCOY3KXF2Q,AENGU523SXMOS7JPDTW52PNNVWGQ,AEQJHCVTNINBS4FKTBGQRQTGTE5Q,AFC3FFC5PKFF5PMA52S3VCHOZ5FQ'"
            ]
          },
          "execution_count": 116,
          "metadata": {},
          "output_type": "execute_result"
        }
      ],
      "source": [
        "df['user_id'][0]"
      ]
    },
    {
      "cell_type": "code",
      "execution_count": null,
      "id": "93187858-77a8-429d-be55-e66947df95e1",
      "metadata": {
        "id": "93187858-77a8-429d-be55-e66947df95e1"
      },
      "outputs": [],
      "source": [
        "df['user_id'].unique"
      ]
    },
    {
      "cell_type": "code",
      "execution_count": null,
      "id": "1b0344db-d900-4c08-8ad4-8de228a6b30a",
      "metadata": {
        "id": "1b0344db-d900-4c08-8ad4-8de228a6b30a"
      },
      "outputs": [],
      "source": [
        "#PERFORMING LABEL ENCODING"
      ]
    },
    {
      "cell_type": "code",
      "execution_count": null,
      "id": "dae97186-343e-4550-b6c2-727e05705a2c",
      "metadata": {
        "id": "dae97186-343e-4550-b6c2-727e05705a2c"
      },
      "outputs": [],
      "source": [
        "from sklearn.preprocessing import LabelEncoder\n",
        "le= LabelEncoder()\n",
        "# fit transform training data\n",
        "df['encoded_user_id']=le.fit_transform(df['user_id'])\n",
        "df.head()"
      ]
    },
    {
      "cell_type": "code",
      "execution_count": null,
      "id": "e0a34234-275e-4cf2-b67c-44a6e5f24358",
      "metadata": {
        "id": "e0a34234-275e-4cf2-b67c-44a6e5f24358"
      },
      "outputs": [],
      "source": [
        "df['encoded_user_id'].value_counts()"
      ]
    },
    {
      "cell_type": "code",
      "execution_count": null,
      "id": "86b3f8c6-fc04-4200-bc92-c6e520070d25",
      "metadata": {
        "id": "86b3f8c6-fc04-4200-bc92-c6e520070d25"
      },
      "outputs": [],
      "source": [
        "user_id_freq_table= pd.DataFrame({'UserID': df['encoded_user_id'].value_counts().index, 'Frequency': df['encoded_user_id'].value_counts().values})\n",
        "user_id_freq_table"
      ]
    },
    {
      "cell_type": "code",
      "execution_count": null,
      "id": "02df2906-1847-49ab-936e-8b5c40129983",
      "metadata": {
        "id": "02df2906-1847-49ab-936e-8b5c40129983"
      },
      "outputs": [],
      "source": [
        "# to see what has been transformed to1048\n",
        "le.inverse_transform([1048])"
      ]
    },
    {
      "cell_type": "code",
      "execution_count": null,
      "id": "54b2cfea-dd19-4c70-9b2a-eb028d79248e",
      "metadata": {
        "id": "54b2cfea-dd19-4c70-9b2a-eb028d79248e"
      },
      "outputs": [],
      "source": [
        "from sklearn.feature_extraction.text import TfidfVectorizer\n",
        "tfidf= TfidfVectorizer(stop_words='english')"
      ]
    },
    {
      "cell_type": "code",
      "execution_count": null,
      "id": "985ca29b-07a5-4505-bda0-6c2253dbf126",
      "metadata": {
        "id": "985ca29b-07a5-4505-bda0-6c2253dbf126"
      },
      "outputs": [],
      "source": [
        "df['about_product']=df['about_product'].fillna('')\n",
        "df['about_product']"
      ]
    },
    {
      "cell_type": "code",
      "execution_count": null,
      "id": "8b895a6a-2536-4eeb-8011-836d2bfa0461",
      "metadata": {
        "id": "8b895a6a-2536-4eeb-8011-836d2bfa0461"
      },
      "outputs": [],
      "source": [
        "tfidf_matrix=tfidf.fit_transform(df['about_product'])"
      ]
    },
    {
      "cell_type": "code",
      "execution_count": null,
      "id": "5b7c1417-5195-4673-905b-a18a3a37151e",
      "metadata": {
        "id": "5b7c1417-5195-4673-905b-a18a3a37151e"
      },
      "outputs": [],
      "source": [
        "user_product_details=df[df['encoded_user_id']==900]"
      ]
    },
    {
      "cell_type": "code",
      "execution_count": null,
      "id": "6b89017c-4b2e-4232-9f19-0733d9c5c094",
      "metadata": {
        "id": "6b89017c-4b2e-4232-9f19-0733d9c5c094"
      },
      "outputs": [],
      "source": [
        "user_product_details"
      ]
    },
    {
      "cell_type": "code",
      "execution_count": null,
      "id": "462f78ce-5683-409d-aba0-afc5eb51c1ab",
      "metadata": {
        "id": "462f78ce-5683-409d-aba0-afc5eb51c1ab"
      },
      "outputs": [],
      "source": [
        "#USING COSINE SIMILARITY"
      ]
    },
    {
      "cell_type": "code",
      "execution_count": null,
      "id": "23860baa-8593-4ece-881a-3142944590be",
      "metadata": {
        "id": "23860baa-8593-4ece-881a-3142944590be",
        "outputId": "22e0b147-247f-44ba-f785-b53b96672bd0"
      },
      "outputs": [
        {
          "data": {
            "text/plain": [
              "[716]"
            ]
          },
          "execution_count": 131,
          "metadata": {},
          "output_type": "execute_result"
        }
      ],
      "source": [
        "indices=user_product_details.index.tolist()\n",
        "indices"
      ]
    },
    {
      "cell_type": "code",
      "execution_count": null,
      "id": "109e28e7-938d-40e1-9119-e3bcadd7ac97",
      "metadata": {
        "id": "109e28e7-938d-40e1-9119-e3bcadd7ac97"
      },
      "outputs": [],
      "source": [
        "from sklearn.metrics.pairwise import cosine_similarity\n",
        "cosine_similarity_user = cosine_similarity(tfidf_matrix[indices], tfidf_matrix)\n",
        "cosine_similarity_user"
      ]
    },
    {
      "cell_type": "code",
      "execution_count": null,
      "id": "cffb4cef-b9aa-46f9-9d89-7f411d151123",
      "metadata": {
        "id": "cffb4cef-b9aa-46f9-9d89-7f411d151123"
      },
      "outputs": [],
      "source": [
        "products=df.iloc[indices]['product_name']\n",
        "\n",
        "indices= pd.Series(products.index, index=products)\n",
        "indices\n"
      ]
    },
    {
      "cell_type": "code",
      "execution_count": null,
      "id": "8960d145-44db-4ada-8646-4be5b800f56c",
      "metadata": {
        "id": "8960d145-44db-4ada-8646-4be5b800f56c"
      },
      "outputs": [],
      "source": [
        "similarity_scores=list(enumerate(cosine_similarity_user[-1]))\n",
        "similarity_scores=[(i,score) for (i,score) in similarity_scores if i not in indices]\n",
        "similarity_scores=sorted(similarity_scores, key=lambda x:x[1],reverse=True) # sort based on similarity score"
      ]
    },
    {
      "cell_type": "code",
      "execution_count": null,
      "id": "4f6b70d5-3842-458a-a384-20d2c723f0aa",
      "metadata": {
        "id": "4f6b70d5-3842-458a-a384-20d2c723f0aa",
        "outputId": "32056937-c220-44b4-a0fe-e2d9e48b9629"
      },
      "outputs": [
        {
          "data": {
            "text/plain": [
              "[883, 977, 785, 939, 664]"
            ]
          },
          "execution_count": 135,
          "metadata": {},
          "output_type": "execute_result"
        }
      ],
      "source": [
        "#top 5 recommended products\n",
        "top_5_products=[i[0] for i in similarity_scores[1:6]]\n",
        "top_5_products"
      ]
    },
    {
      "cell_type": "code",
      "execution_count": null,
      "id": "1eeaf481-feed-40a6-8482-740f1b4bdf91",
      "metadata": {
        "id": "1eeaf481-feed-40a6-8482-740f1b4bdf91"
      },
      "outputs": [],
      "source": [
        "#name of top 5 products\n",
        "recommended_products=df.iloc[top_5_products]['product_name'].tolist()\n"
      ]
    },
    {
      "cell_type": "code",
      "execution_count": null,
      "id": "e0d86b6b-036a-4a5c-91c8-867495af3611",
      "metadata": {
        "id": "e0d86b6b-036a-4a5c-91c8-867495af3611"
      },
      "outputs": [],
      "source": [
        "#lets convert all in DF\n",
        "top5scores=[similarity_scores[i][1] for i in range(5)]\n",
        "top5scores"
      ]
    },
    {
      "cell_type": "code",
      "execution_count": null,
      "id": "d925e030-190c-45f9-8890-c2cec872204d",
      "metadata": {
        "id": "d925e030-190c-45f9-8890-c2cec872204d"
      },
      "outputs": [],
      "source": [
        "result_df=pd.DataFrame({'Encoded_ID':900, 'Recommended Products': recommended_products, 'Recommended Score': top5scores})\n",
        "result_df"
      ]
    },
    {
      "cell_type": "code",
      "execution_count": null,
      "id": "292ba07a-fe86-47b9-9230-b79864cba4cc",
      "metadata": {
        "id": "292ba07a-fe86-47b9-9230-b79864cba4cc"
      },
      "outputs": [],
      "source": [
        "#lets build function for reccomendation system\n",
        "\n",
        "from sklearn.feature_extraction.text import TfidfVectorizer\n",
        "from sklearn.metrics.pairwise import cosine_similarity\n",
        "\n",
        "\n",
        "tfidf = TfidfVectorizer(stop_words='english')\n",
        "\n",
        "def recommendation_system(df, encoded_user_id):\n",
        "    tfidf = TfidfVectorizer(stop_words='english')\n",
        "    df['about_product'] = df['about_product'].fillna('')\n",
        "    tfidf_matrix = tfidf.fit_transform(df['about_product'])\n",
        "    user_product_details = df[df['encoded_user_id'] == encoded_user_id]\n",
        "    indices = user_product_details.index.tolist()\n",
        "    if indices:\n",
        "        cosine_similairty_user = cosine_similarity(tfidf_matrix[indices], tfidf_matrix)\n",
        "\n",
        "        products = df.iloc[indices]['product_name']\n",
        "\n",
        "        indices = pd.Series(products.index, index=products)\n",
        "        similiarity_scores = list(enumerate(cosine_similairty_user[-1]))\n",
        "        similiarity_scores=[(i, score) for (i,score) in similiarity_scores if i not in indices]\n",
        "        similiarity_scores= sorted(similiarity_scores, key=lambda x:x[1], reverse=True) #sort based on similiarty scores\n",
        "        top_5_products = [i[0] for i in similiarity_scores[1:6]]\n",
        "        #name of top 5 products\n",
        "        recommended_products = df.iloc[top_5_products]['product_name'].tolist()\n",
        "\n",
        "        top5scores = [similiarity_scores[i][1] for i in range(5)]\n",
        "\n",
        "        result_df = pd.DataFrame({'Encoded_ID': encoded_user_id,\n",
        "        'Recommended Products': recommended_products,\n",
        "        'Recommendation Score': top5scores})\n",
        "        return result_df\n",
        "    return \"Id Incorrect\"\n"
      ]
    },
    {
      "cell_type": "code",
      "execution_count": null,
      "id": "5944bdd2-802b-47c9-b97d-50c2c71ab8d8",
      "metadata": {
        "id": "5944bdd2-802b-47c9-b97d-50c2c71ab8d8"
      },
      "outputs": [],
      "source": [
        "recommendation_system(df, 345)"
      ]
    },
    {
      "cell_type": "code",
      "source": [],
      "metadata": {
        "id": "VrBdvjtS5orL"
      },
      "id": "VrBdvjtS5orL",
      "execution_count": null,
      "outputs": []
    }
  ],
  "metadata": {
    "kernelspec": {
      "display_name": "Python 3 (ipykernel)",
      "language": "python",
      "name": "python3"
    },
    "language_info": {
      "codemirror_mode": {
        "name": "ipython",
        "version": 3
      },
      "file_extension": ".py",
      "mimetype": "text/x-python",
      "name": "python",
      "nbconvert_exporter": "python",
      "pygments_lexer": "ipython3",
      "version": "3.12.7"
    },
    "colab": {
      "provenance": []
    }
  },
  "nbformat": 4,
  "nbformat_minor": 5
}